{
 "cells": [
  {
   "cell_type": "markdown",
   "metadata": {},
   "source": [
    "### Notebook description\n",
    "\n"
   ]
  },
  {
   "cell_type": "markdown",
   "metadata": {},
   "source": [
    "### Load data\n",
    "\n",
    "- Loading dataset to train the model"
   ]
  },
  {
   "cell_type": "code",
   "execution_count": 1,
   "metadata": {},
   "outputs": [],
   "source": [
    "with open('../data/raw/input.txt', 'r') as f:\n",
    "    text = f.read()"
   ]
  },
  {
   "cell_type": "code",
   "execution_count": 2,
   "metadata": {},
   "outputs": [
    {
     "name": "stdout",
     "output_type": "stream",
     "text": [
      "First Citizen:\n",
      "Before we proceed any further, hear me speak.\n",
      "\n",
      "All:\n",
      "Speak, speak.\n",
      "\n",
      "First Citizen:\n",
      "You are all resolved rather to die than to famish?\n",
      "\n",
      "All:\n",
      "Resolved. resolved.\n",
      "\n",
      "First Citizen:\n",
      "First, you know Caius Marcius is chief enemy to the people.\n",
      "\n",
      "All:\n",
      "We know't, we know't.\n",
      "\n",
      "First Citizen:\n",
      "Let us kill him, and we'll have corn at our own price.\n",
      "Is't a verdict?\n",
      "\n",
      "All:\n",
      "No more talking on't; let it be done: away, away!\n",
      "\n",
      "Second Citizen:\n",
      "One word, good citizens.\n",
      "\n",
      "First Citizen:\n",
      "We are accounted poor citizens, the patricians good.\n",
      "What authority surfeits on would relieve us: if they\n",
      "would yield us but the superfluity, while it were\n",
      "wholesome, we might guess they relieved us humanely;\n",
      "but they think we are too dear: the leanness that\n",
      "afflicts us, the object of our misery, is as an\n",
      "inventory to particularise their abundance; our\n",
      "sufferance is a gain to them Let us revenge this with\n",
      "our pikes, ere we become rakes: for the gods know I\n",
      "speak this in hunger for bread, not in thirst for revenge.\n",
      "\n",
      "\n"
     ]
    }
   ],
   "source": [
    "print(text[:1000])"
   ]
  },
  {
   "cell_type": "markdown",
   "metadata": {},
   "source": [
    "### Caracters\n",
    "\n",
    "- Let's check all the caracters that the model will be able to see"
   ]
  },
  {
   "cell_type": "code",
   "execution_count": 3,
   "metadata": {},
   "outputs": [
    {
     "name": "stdout",
     "output_type": "stream",
     "text": [
      "\n",
      " !$&',-.3:;?ABCDEFGHIJKLMNOPQRSTUVWXYZabcdefghijklmnopqrstuvwxyz\n",
      "Number of unique caracters: 65\n"
     ]
    }
   ],
   "source": [
    "chars = sorted(list(set(text)))\n",
    "print(''.join(chars))\n",
    "print(f\"Number of unique caracters: {len(chars)}\")"
   ]
  },
  {
   "cell_type": "markdown",
   "metadata": {},
   "source": [
    "### Encoding caracters\n",
    "\n",
    "- Let's create an estrategy to transforme words to integers;\n",
    "- Using the list of caraters we can create a map from caracters to integers"
   ]
  },
  {
   "cell_type": "code",
   "execution_count": 4,
   "metadata": {},
   "outputs": [
    {
     "name": "stdout",
     "output_type": "stream",
     "text": [
      "[46, 43, 50, 50, 53]\n",
      "hello\n"
     ]
    }
   ],
   "source": [
    "stoi = { c: i for i, c in enumerate(chars) }\n",
    "itos = { i: c for i, c in enumerate(chars) }\n",
    "\n",
    "encode = lambda x: [stoi[c] for c in x]\n",
    "decode = lambda x: ''.join([itos[i] for i in x])\n",
    "\n",
    "print(encode('hello'))\n",
    "print(decode(encode('hello')))"
   ]
  },
  {
   "cell_type": "markdown",
   "metadata": {},
   "source": [
    "### Tokenization & train/test split"
   ]
  },
  {
   "cell_type": "code",
   "execution_count": 5,
   "metadata": {},
   "outputs": [
    {
     "name": "stdout",
     "output_type": "stream",
     "text": [
      "tensor([18, 47, 56, 57, 58,  1, 15, 47, 58, 47, 64, 43, 52, 10,  0, 14, 43, 44,\n",
      "        53, 56, 43,  1, 61, 43,  1, 54, 56, 53, 41, 43, 43, 42,  1, 39, 52, 63,\n",
      "         1, 44, 59, 56, 58, 46, 43, 56,  6,  1, 46, 43, 39, 56,  1, 51, 43,  1,\n",
      "        57, 54, 43, 39, 49,  8,  0,  0, 13, 50, 50, 10,  0, 31, 54, 43, 39, 49,\n",
      "         6,  1, 57, 54, 43, 39, 49,  8,  0,  0, 18, 47, 56, 57, 58,  1, 15, 47,\n",
      "        58, 47, 64, 43, 52, 10,  0, 37, 53, 59])\n"
     ]
    }
   ],
   "source": [
    "import torch\n",
    "\n",
    "text_encoded = torch.tensor(encode(text), dtype=torch.long)\n",
    "print(text_encoded[:100])"
   ]
  },
  {
   "cell_type": "code",
   "execution_count": 6,
   "metadata": {},
   "outputs": [],
   "source": [
    "train_size = int(0.9 * len(text_encoded))\n",
    "\n",
    "train_data = text_encoded[:train_size]\n",
    "val_data = text_encoded[train_size:]"
   ]
  },
  {
   "cell_type": "markdown",
   "metadata": {},
   "source": [
    "### Set block size and batch size\n",
    "\n",
    "* **Block Size**: The block size refers to the number of data samples that are processed together in parallel during training. In deep learning, it is common to train models using mini-batches, where a mini-batch is a subset of the entire training dataset. The block size determines the number of samples in each mini-batch. By processing data in mini-batches, we can take advantage of parallel computing capabilities and optimize the training process. It allows us to efficiently utilize the computational resources of modern hardware, such as GPUs, which are designed to perform parallel computations. Additionally, mini-batch training helps to generalize the model by introducing some level of randomness in each iteration.\n",
    "* **Batch Size**: The batch size is the number of samples within a single mini-batch. It determines how many samples are processed together before updating the model's parameters. During training, the model makes predictions on the batch, calculates the loss, and then updates the weights based on the loss. The batch size affects the speed and stability of the training process. Choosing an appropriate batch size is crucial. A small batch size can lead to noisy gradients and slower convergence, while a large batch size may require more memory and computational resources. It is often a trade-off between computational efficiency and model performance.\n"
   ]
  },
  {
   "cell_type": "code",
   "execution_count": 7,
   "metadata": {},
   "outputs": [],
   "source": [
    "torch.manual_seed(24022024)\n",
    "\n",
    "batch_size = 4\n",
    "block_size = 8\n",
    "\n",
    "def get_batch(split):\n",
    "    \"\"\"Return two random batch of data with dimension (batch_size, block_size).\n",
    "    The first batch is the input and the second batch is the target.\n",
    "    \n",
    "    split: str, 'train' or 'val'\n",
    "    return: tuple of two tensors\"\"\"\n",
    "\n",
    "    data = train_data if split == 'train' else val_data\n",
    "\n",
    "    ix = torch.randint(len(data) - block_size, (batch_size,))\n",
    "    x = torch.stack([data[i:i+block_size] for i in ix])\n",
    "    y = torch.stack([data[i+1:i+block_size+1] for i in ix])\n",
    "\n",
    "    return x, y\n"
   ]
  },
  {
   "cell_type": "markdown",
   "metadata": {},
   "source": [
    "### Create the model"
   ]
  },
  {
   "cell_type": "code",
   "execution_count": 39,
   "metadata": {},
   "outputs": [],
   "source": [
    "import torch\n",
    "import torch.nn as nn\n",
    "\n",
    "from torch.nn import functional as F\n",
    "\n",
    "class BigramLanguageModel(nn.Module):\n",
    "\n",
    "    def __init__(self, vocab_size):\n",
    "        super().__init__()\n",
    "\n",
    "        # each token directly reads off the logits for the next token from a lookup table\n",
    "        self.tolken_embedding_table = nn.Embedding(vocab_size, vocab_size)\n",
    "\n",
    "    def forward(self, idx, targets=None):\n",
    "        # idx: (batch_size, block_size)\n",
    "        # targets: (batch_size, block_size)\n",
    "\n",
    "        # (batch_size, block_size, vocab_size)\n",
    "        logits = self.tolken_embedding_table(idx)\n",
    "\n",
    "        if targets is None:\n",
    "            loss = None\n",
    "        else:\n",
    "            B, T, C = logits.shape\n",
    "            logits = logits.view(B*T, C)\n",
    "            targets = targets.view(-1)\n",
    "            # (batch_size, block_size, vocab_size)\n",
    "            loss = F.cross_entropy(logits, targets)\n",
    "        \n",
    "        return logits, loss\n",
    "\n",
    "    def generate(self, idx, max_new_tokens):\n",
    "\n",
    "        for _ in range(max_new_tokens):\n",
    "            # get the prediction\n",
    "            logits, loss = self(idx)\n",
    "            # focus only on the last time step\n",
    "            logits = logits[:, -1, :] # becomes (B, C)\n",
    "            # apply softmax to get probabilities\n",
    "            probs = F.softmax(logits, dim=-1) # (B, C)\n",
    "            # Sample from the distribution\n",
    "            idx_next = torch.multinomial(probs, num_samples=1) # (B, 1)\n",
    "            # append sampled index to the running sequence\n",
    "            idx = torch.cat((idx, idx_next), dim=1)\n",
    "        return idx"
   ]
  },
  {
   "cell_type": "code",
   "execution_count": 34,
   "metadata": {},
   "outputs": [
    {
     "name": "stdout",
     "output_type": "stream",
     "text": [
      "\n",
      "YQV?vPNQhUYq!DicZMQSeYG;aZULTAJS3nTAeVFrUeTCFjGtMPJH--l\n",
      "hcILAhbnJ- F-a?o\n",
      "AzoGcysk?!aIMmjwPp;pQ$AASZM\n"
     ]
    }
   ],
   "source": [
    "vocab_size = len(chars)\n",
    "m = BigramLanguageModel(vocab_size)\n",
    "print(decode(m.generate(idx = torch.zeros((1, 1), dtype=torch.long), max_new_tokens=100)[0].tolist()))"
   ]
  },
  {
   "cell_type": "code",
   "execution_count": 35,
   "metadata": {},
   "outputs": [],
   "source": [
    "# create a Pytorch optimizer\n",
    "optimizer = torch.optim.Adam(m.parameters(), lr=1e-3)"
   ]
  },
  {
   "cell_type": "code",
   "execution_count": 37,
   "metadata": {},
   "outputs": [
    {
     "name": "stdout",
     "output_type": "stream",
     "text": [
      "Step: 0, Loss: 3.7534027099609375\n",
      "Step: 100, Loss: 3.7499630451202393\n",
      "Step: 200, Loss: 3.615746021270752\n",
      "Step: 300, Loss: 3.6393930912017822\n",
      "Step: 400, Loss: 3.5247511863708496\n",
      "Step: 500, Loss: 3.3106467723846436\n",
      "Step: 600, Loss: 3.407113552093506\n",
      "Step: 700, Loss: 3.3172221183776855\n",
      "Step: 800, Loss: 3.335146903991699\n",
      "Step: 900, Loss: 3.1862876415252686\n",
      "Step: 1000, Loss: 3.138798475265503\n",
      "Step: 1100, Loss: 2.9729411602020264\n",
      "Step: 1200, Loss: 3.0321455001831055\n",
      "Step: 1300, Loss: 3.015462875366211\n",
      "Step: 1400, Loss: 2.9232938289642334\n",
      "Step: 1500, Loss: 2.9104466438293457\n",
      "Step: 1600, Loss: 2.9720618724823\n",
      "Step: 1700, Loss: 2.953613519668579\n",
      "Step: 1800, Loss: 2.7322216033935547\n",
      "Step: 1900, Loss: 2.813430070877075\n",
      "Step: 2000, Loss: 2.881880760192871\n",
      "Step: 2100, Loss: 2.700406074523926\n",
      "Step: 2200, Loss: 2.749924659729004\n",
      "Step: 2300, Loss: 2.6859850883483887\n",
      "Step: 2400, Loss: 2.741866111755371\n",
      "Step: 2500, Loss: 2.741502285003662\n",
      "Step: 2600, Loss: 2.6578240394592285\n",
      "Step: 2700, Loss: 2.693448781967163\n",
      "Step: 2800, Loss: 2.67915940284729\n",
      "Step: 2900, Loss: 2.502671480178833\n",
      "Step: 3000, Loss: 2.5494120121002197\n",
      "Step: 3100, Loss: 2.5885417461395264\n",
      "Step: 3200, Loss: 2.6064789295196533\n",
      "Step: 3300, Loss: 2.664987087249756\n",
      "Step: 3400, Loss: 2.633314847946167\n",
      "Step: 3500, Loss: 2.507774829864502\n",
      "Step: 3600, Loss: 2.64725661277771\n",
      "Step: 3700, Loss: 2.676210641860962\n",
      "Step: 3800, Loss: 2.580376625061035\n",
      "Step: 3900, Loss: 2.5642824172973633\n",
      "Step: 4000, Loss: 2.5494260787963867\n",
      "Step: 4100, Loss: 2.582306385040283\n",
      "Step: 4200, Loss: 2.6055827140808105\n",
      "Step: 4300, Loss: 2.659904718399048\n",
      "Step: 4400, Loss: 2.5731611251831055\n",
      "Step: 4500, Loss: 2.4988279342651367\n",
      "Step: 4600, Loss: 2.536980152130127\n",
      "Step: 4700, Loss: 2.523772716522217\n",
      "Step: 4800, Loss: 2.487309217453003\n",
      "Step: 4900, Loss: 2.482499599456787\n",
      "Step: 5000, Loss: 2.404090642929077\n",
      "Step: 5100, Loss: 2.4669687747955322\n",
      "Step: 5200, Loss: 2.6082332134246826\n",
      "Step: 5300, Loss: 2.4401276111602783\n",
      "Step: 5400, Loss: 2.5021355152130127\n",
      "Step: 5500, Loss: 2.5453972816467285\n",
      "Step: 5600, Loss: 2.5822765827178955\n",
      "Step: 5700, Loss: 2.6036643981933594\n",
      "Step: 5800, Loss: 2.523371696472168\n",
      "Step: 5900, Loss: 2.5220866203308105\n",
      "Step: 6000, Loss: 2.4435038566589355\n",
      "Step: 6100, Loss: 2.460075855255127\n",
      "Step: 6200, Loss: 2.5114998817443848\n",
      "Step: 6300, Loss: 2.557631731033325\n",
      "Step: 6400, Loss: 2.466212749481201\n",
      "Step: 6500, Loss: 2.5574049949645996\n",
      "Step: 6600, Loss: 2.550262451171875\n",
      "Step: 6700, Loss: 2.638103723526001\n",
      "Step: 6800, Loss: 2.3616414070129395\n",
      "Step: 6900, Loss: 2.441437005996704\n",
      "Step: 7000, Loss: 2.6202995777130127\n",
      "Step: 7100, Loss: 2.54705548286438\n",
      "Step: 7200, Loss: 2.4096450805664062\n",
      "Step: 7300, Loss: 2.5384879112243652\n",
      "Step: 7400, Loss: 2.438870906829834\n",
      "Step: 7500, Loss: 2.463367462158203\n",
      "Step: 7600, Loss: 2.548065185546875\n",
      "Step: 7700, Loss: 2.538565158843994\n",
      "Step: 7800, Loss: 2.4486703872680664\n",
      "Step: 7900, Loss: 2.3642334938049316\n",
      "Step: 8000, Loss: 2.5744261741638184\n",
      "Step: 8100, Loss: 2.40620493888855\n",
      "Step: 8200, Loss: 2.460841178894043\n",
      "Step: 8300, Loss: 2.5035243034362793\n",
      "Step: 8400, Loss: 2.4190833568573\n",
      "Step: 8500, Loss: 2.474433422088623\n",
      "Step: 8600, Loss: 2.390690803527832\n",
      "Step: 8700, Loss: 2.4247450828552246\n",
      "Step: 8800, Loss: 2.390132188796997\n",
      "Step: 8900, Loss: 2.5302138328552246\n",
      "Step: 9000, Loss: 2.4682090282440186\n",
      "Step: 9100, Loss: 2.496825695037842\n",
      "Step: 9200, Loss: 2.4049177169799805\n",
      "Step: 9300, Loss: 2.414562702178955\n",
      "Step: 9400, Loss: 2.5098249912261963\n",
      "Step: 9500, Loss: 2.538658380508423\n",
      "Step: 9600, Loss: 2.584005355834961\n",
      "Step: 9700, Loss: 2.4585232734680176\n",
      "Step: 9800, Loss: 2.5684654712677\n",
      "Step: 9900, Loss: 2.4743590354919434\n"
     ]
    }
   ],
   "source": [
    "batch_size = 32\n",
    "\n",
    "for steps in range(10000):\n",
    "\n",
    "    x, y = get_batch('train')\n",
    "    logits, loss = m(x, y)\n",
    "\n",
    "    optimizer.zero_grad()\n",
    "    loss.backward()\n",
    "    optimizer.step()\n",
    "\n",
    "    if steps % 100 == 0:\n",
    "        print(f'Step: {steps}, Loss: {loss.item()}')"
   ]
  },
  {
   "cell_type": "code",
   "execution_count": 40,
   "metadata": {},
   "outputs": [
    {
     "name": "stdout",
     "output_type": "stream",
     "text": [
      "\n",
      "Whesss s,\n",
      "NG nd f li!\n",
      "\n",
      "Louris ol?\n",
      "ETovepr g he R:\n",
      "\n",
      "Townorsenof\n",
      "NTIOLI's; n be a in mor frloucck&llot\n"
     ]
    }
   ],
   "source": [
    "print(decode(m.generate(idx = torch.zeros((1, 1), dtype=torch.long), max_new_tokens=100)[0].tolist()))"
   ]
  },
  {
   "cell_type": "code",
   "execution_count": null,
   "metadata": {},
   "outputs": [],
   "source": []
  }
 ],
 "metadata": {
  "kernelspec": {
   "display_name": "gpt_nano_venv",
   "language": "python",
   "name": "python3"
  },
  "language_info": {
   "codemirror_mode": {
    "name": "ipython",
    "version": 3
   },
   "file_extension": ".py",
   "mimetype": "text/x-python",
   "name": "python",
   "nbconvert_exporter": "python",
   "pygments_lexer": "ipython3",
   "version": "3.10.13"
  }
 },
 "nbformat": 4,
 "nbformat_minor": 2
}
